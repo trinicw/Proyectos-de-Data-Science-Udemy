{
 "cells": [
  {
   "cell_type": "code",
   "execution_count": null,
   "metadata": {},
   "outputs": [
    {
     "data": {
      "text/plain": [
       "int"
      ]
     },
     "execution_count": 1,
     "metadata": {},
     "output_type": "execute_result"
    }
   ],
   "source": [
    "# Averiguar el cuál es el mayor\n",
    "# de los números introducidos por el usuario.\n",
    "\n",
    "x1, x2, x3 = int(input('Ingresa el primer numero')), int(input(\"Ingresa el segundo numero\")), int(input(\"Ingresa el tercer numero\"))\n",
    "\n"
   ]
  },
  {
   "cell_type": "code",
   "execution_count": 5,
   "metadata": {},
   "outputs": [
    {
     "name": "stdout",
     "output_type": "stream",
     "text": [
      "El mayor es 4\n"
     ]
    }
   ],
   "source": [
    "if x1 > x2 and x1 > x3:\n",
    "    print(f\"El mayor es {x1}\")\n",
    "elif x2 > x1 and x2 > x3:  \n",
    "    print(f\"El mayor es {x2}\")\n",
    "else:\n",
    "    print(f\"El mayor es {x3}\")  \n"
   ]
  }
 ],
 "metadata": {
  "kernelspec": {
   "display_name": "base",
   "language": "python",
   "name": "python3"
  },
  "language_info": {
   "codemirror_mode": {
    "name": "ipython",
    "version": 3
   },
   "file_extension": ".py",
   "mimetype": "text/x-python",
   "name": "python",
   "nbconvert_exporter": "python",
   "pygments_lexer": "ipython3",
   "version": "3.12.7"
  }
 },
 "nbformat": 4,
 "nbformat_minor": 2
}
