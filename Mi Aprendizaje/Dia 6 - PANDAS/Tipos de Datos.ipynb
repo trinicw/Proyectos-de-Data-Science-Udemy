{
 "cells": [
  {
   "cell_type": "code",
   "execution_count": 1,
   "id": "f43d0d6d",
   "metadata": {},
   "outputs": [],
   "source": [
    "import pandas as pd\n"
   ]
  },
  {
   "cell_type": "code",
   "execution_count": 6,
   "id": "80e81df1",
   "metadata": {},
   "outputs": [
    {
     "data": {
      "text/plain": [
       "{'nombre': ['Bibiana', 'Renzo', 'Damian', 'Trini'], 'edad': [50, 27, 55, 22]}"
      ]
     },
     "execution_count": 6,
     "metadata": {},
     "output_type": "execute_result"
    }
   ],
   "source": [
    "datos = {\"nombre\" : [\"Bibiana\", \"Renzo\", \"Damian\", \"Trini\"], \"edad\": [50, 27, 55, 22]}\n",
    "datos\n"
   ]
  },
  {
   "cell_type": "code",
   "execution_count": 8,
   "id": "c1f370a6",
   "metadata": {},
   "outputs": [
    {
     "data": {
      "text/html": [
       "<div>\n",
       "<style scoped>\n",
       "    .dataframe tbody tr th:only-of-type {\n",
       "        vertical-align: middle;\n",
       "    }\n",
       "\n",
       "    .dataframe tbody tr th {\n",
       "        vertical-align: top;\n",
       "    }\n",
       "\n",
       "    .dataframe thead th {\n",
       "        text-align: right;\n",
       "    }\n",
       "</style>\n",
       "<table border=\"1\" class=\"dataframe\">\n",
       "  <thead>\n",
       "    <tr style=\"text-align: right;\">\n",
       "      <th></th>\n",
       "      <th>nombre</th>\n",
       "      <th>edad</th>\n",
       "    </tr>\n",
       "  </thead>\n",
       "  <tbody>\n",
       "    <tr>\n",
       "      <th>0</th>\n",
       "      <td>Bibiana</td>\n",
       "      <td>50</td>\n",
       "    </tr>\n",
       "    <tr>\n",
       "      <th>1</th>\n",
       "      <td>Renzo</td>\n",
       "      <td>27</td>\n",
       "    </tr>\n",
       "    <tr>\n",
       "      <th>2</th>\n",
       "      <td>Damian</td>\n",
       "      <td>55</td>\n",
       "    </tr>\n",
       "    <tr>\n",
       "      <th>3</th>\n",
       "      <td>Trini</td>\n",
       "      <td>22</td>\n",
       "    </tr>\n",
       "  </tbody>\n",
       "</table>\n",
       "</div>"
      ],
      "text/plain": [
       "    nombre  edad\n",
       "0  Bibiana    50\n",
       "1    Renzo    27\n",
       "2   Damian    55\n",
       "3    Trini    22"
      ]
     },
     "execution_count": 8,
     "metadata": {},
     "output_type": "execute_result"
    }
   ],
   "source": [
    "df = pd.DataFrame(datos)\n",
    "df"
   ]
  },
  {
   "cell_type": "code",
   "execution_count": 9,
   "id": "c28f8f7d",
   "metadata": {},
   "outputs": [
    {
     "data": {
      "text/plain": [
       "pandas.core.frame.DataFrame"
      ]
     },
     "execution_count": 9,
     "metadata": {},
     "output_type": "execute_result"
    }
   ],
   "source": [
    "type(df)"
   ]
  },
  {
   "cell_type": "code",
   "execution_count": 10,
   "id": "d11f732e",
   "metadata": {},
   "outputs": [
    {
     "data": {
      "text/plain": [
       "0    Bibiana\n",
       "1      Renzo\n",
       "2     Damian\n",
       "3      Trini\n",
       "Name: nombre, dtype: object"
      ]
     },
     "execution_count": 10,
     "metadata": {},
     "output_type": "execute_result"
    }
   ],
   "source": [
    "df[\"nombre\"]"
   ]
  },
  {
   "cell_type": "code",
   "execution_count": 11,
   "id": "2d85f425",
   "metadata": {},
   "outputs": [
    {
     "data": {
      "text/plain": [
       "0    Bibiana\n",
       "1      Renzo\n",
       "2     Damian\n",
       "3      Trini\n",
       "Name: nombre, dtype: object"
      ]
     },
     "execution_count": 11,
     "metadata": {},
     "output_type": "execute_result"
    }
   ],
   "source": [
    "df.nombre"
   ]
  },
  {
   "cell_type": "code",
   "execution_count": 12,
   "id": "16fab406",
   "metadata": {},
   "outputs": [
    {
     "name": "stdout",
     "output_type": "stream",
     "text": [
      "   nombre  edad\n",
      "0     Ana    30\n",
      "1    Luis    25\n",
      "2  Carlos    40\n"
     ]
    }
   ],
   "source": [
    "datos_empleados = {\"nombre\": [\"Ana\", \"Luis\", \"Carlos\"], \"edad\": [30,25,40]}\n",
    "\n",
    "df= pd.DataFrame(datos_empleados)\n",
    "print(df)\n"
   ]
  },
  {
   "cell_type": "code",
   "execution_count": 14,
   "id": "f5a80caf",
   "metadata": {},
   "outputs": [
    {
     "data": {
      "text/plain": [
       "(3, 2)"
      ]
     },
     "execution_count": 14,
     "metadata": {},
     "output_type": "execute_result"
    }
   ],
   "source": [
    "df_empleados = pd.DataFrame({\"nombre\": [\"Ana\", \"Luis\", \"Carlos\"], \"edad\" : [30,25,40]})\n",
    "\n",
    "shape_df = df_empleados.shape \n",
    "shape_df"
   ]
  },
  {
   "cell_type": "markdown",
   "id": "9ae2dbcb",
   "metadata": {},
   "source": [
    "Ejercicio Tipos de Datos en Pandas \n",
    "Dado el DataFrame df_empleados creado en el ejercicio anterior:\n",
    "\n",
    "La columna nombre debe contener los nombres de tres empleados: 'Ana', 'Luis' y 'Carlos'\n",
    "\n",
    "La columna edad debe contener las edades correspondientes: 30, 25 y 40\n",
    "\n",
    "Para explorar sus atributos principales: shape, columns, y index.\n",
    "\n",
    "Utilizando las siguientes variables respectivamente: shape_df, columns_df, index_df "
   ]
  },
  {
   "cell_type": "code",
   "execution_count": 15,
   "id": "e3290ca1",
   "metadata": {},
   "outputs": [
    {
     "name": "stdout",
     "output_type": "stream",
     "text": [
      "(3, 2)\n",
      "Index(['nombre', 'edad'], dtype='object')\n",
      "RangeIndex(start=0, stop=3, step=1)\n"
     ]
    }
   ],
   "source": [
    "df_empleados = pd.DataFrame({\"nombre\": [\"Ana\", \"Luis\", \"Carlos\"], \"edad\" : [30,25,40]})\n",
    "\n",
    "shape_df = df_empleados.shape \n",
    "columns_df = df_empleados.columns \n",
    "index_df = df_empleados.index \n",
    "\n",
    "print(shape_df)\n",
    "print(columns_df)\n",
    "print(index_df)"
   ]
  }
 ],
 "metadata": {
  "kernelspec": {
   "display_name": "base",
   "language": "python",
   "name": "python3"
  },
  "language_info": {
   "codemirror_mode": {
    "name": "ipython",
    "version": 3
   },
   "file_extension": ".py",
   "mimetype": "text/x-python",
   "name": "python",
   "nbconvert_exporter": "python",
   "pygments_lexer": "ipython3",
   "version": "3.12.7"
  }
 },
 "nbformat": 4,
 "nbformat_minor": 5
}
