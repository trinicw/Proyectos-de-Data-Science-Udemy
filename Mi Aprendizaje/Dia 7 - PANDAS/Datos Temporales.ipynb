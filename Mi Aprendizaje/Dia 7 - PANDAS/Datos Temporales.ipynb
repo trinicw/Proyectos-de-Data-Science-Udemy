{
 "cells": [
  {
   "cell_type": "code",
   "execution_count": 2,
   "id": "055234c2",
   "metadata": {},
   "outputs": [],
   "source": [
    "import pandas as pd"
   ]
  },
  {
   "cell_type": "code",
   "execution_count": 5,
   "id": "b7574333",
   "metadata": {},
   "outputs": [
    {
     "data": {
      "text/plain": [
       "0   2024-01-01\n",
       "1   2024-01-02\n",
       "2   2024-01-03\n",
       "3   2024-01-04\n",
       "4   2024-01-05\n",
       "5   2024-01-06\n",
       "dtype: datetime64[ns]"
      ]
     },
     "execution_count": 5,
     "metadata": {},
     "output_type": "execute_result"
    }
   ],
   "source": [
    "fechas= pd.Series(pd.date_range('20240101', periods=6)) \n",
    "fechas"
   ]
  },
  {
   "cell_type": "code",
   "execution_count": 7,
   "id": "4ea28bf1",
   "metadata": {},
   "outputs": [
    {
     "data": {
      "text/plain": [
       "0   2024-01-31\n",
       "1   2024-02-29\n",
       "2   2024-03-31\n",
       "3   2024-04-30\n",
       "4   2024-05-31\n",
       "5   2024-06-30\n",
       "dtype: datetime64[ns]"
      ]
     },
     "execution_count": 7,
     "metadata": {},
     "output_type": "execute_result"
    }
   ],
   "source": [
    "fechas = pd.Series(pd.date_range('20240101', periods=6, freq='ME'))\n",
    "fechas"
   ]
  },
  {
   "cell_type": "code",
   "execution_count": 9,
   "id": "5a6ba8c9",
   "metadata": {},
   "outputs": [
    {
     "data": {
      "text/plain": [
       "0   2024-12-31\n",
       "1   2025-12-31\n",
       "2   2026-12-31\n",
       "3   2027-12-31\n",
       "4   2028-12-31\n",
       "5   2029-12-31\n",
       "dtype: datetime64[ns]"
      ]
     },
     "execution_count": 9,
     "metadata": {},
     "output_type": "execute_result"
    }
   ],
   "source": [
    "fechas = pd.Series(pd.date_range('20240101', periods=6, freq='YE'))\n",
    "fechas"
   ]
  },
  {
   "cell_type": "code",
   "execution_count": 11,
   "id": "be1b67ba",
   "metadata": {},
   "outputs": [
    {
     "data": {
      "text/plain": [
       "0   2024-01-01 00:00:00\n",
       "1   2024-01-01 01:00:00\n",
       "2   2024-01-01 02:00:00\n",
       "3   2024-01-01 03:00:00\n",
       "4   2024-01-01 04:00:00\n",
       "5   2024-01-01 05:00:00\n",
       "dtype: datetime64[ns]"
      ]
     },
     "execution_count": 11,
     "metadata": {},
     "output_type": "execute_result"
    }
   ],
   "source": [
    "fechas = pd.Series(pd.date_range('20240101', periods=6, freq='h'))\n",
    "fechas"
   ]
  },
  {
   "cell_type": "code",
   "execution_count": 12,
   "id": "f66c5169",
   "metadata": {},
   "outputs": [
    {
     "data": {
      "text/plain": [
       "0   2024-01-01 00:00:00\n",
       "1   2024-01-01 00:01:00\n",
       "2   2024-01-01 00:02:00\n",
       "3   2024-01-01 00:03:00\n",
       "4   2024-01-01 00:04:00\n",
       "5   2024-01-01 00:05:00\n",
       "dtype: datetime64[ns]"
      ]
     },
     "execution_count": 12,
     "metadata": {},
     "output_type": "execute_result"
    }
   ],
   "source": [
    "fechas = pd.Series(pd.date_range('20240101', periods=6, freq='min'))\n",
    "fechas"
   ]
  },
  {
   "cell_type": "code",
   "execution_count": null,
   "id": "3faeef13",
   "metadata": {},
   "outputs": [
    {
     "data": {
      "text/plain": [
       "0   2024-01-01\n",
       "1   2024-01-06\n",
       "2   2024-01-11\n",
       "3   2024-01-16\n",
       "4   2024-01-21\n",
       "5   2024-01-26\n",
       "dtype: datetime64[ns]"
      ]
     },
     "execution_count": 14,
     "metadata": {},
     "output_type": "execute_result"
    }
   ],
   "source": [
    "fechas = pd.Series(pd.date_range('20240101', periods=6, freq='5D')) # Saltea cada 5 dias (5D)\n",
    "fechas"
   ]
  },
  {
   "cell_type": "markdown",
   "id": "98199198",
   "metadata": {},
   "source": [
    "Ahora veremos cómo convertir las fechas que vienen en formato 'string' al formato 'datetime' o 'timestamp'"
   ]
  },
  {
   "cell_type": "code",
   "execution_count": 15,
   "id": "ffd7246c",
   "metadata": {},
   "outputs": [
    {
     "data": {
      "text/html": [
       "<div>\n",
       "<style scoped>\n",
       "    .dataframe tbody tr th:only-of-type {\n",
       "        vertical-align: middle;\n",
       "    }\n",
       "\n",
       "    .dataframe tbody tr th {\n",
       "        vertical-align: top;\n",
       "    }\n",
       "\n",
       "    .dataframe thead th {\n",
       "        text-align: right;\n",
       "    }\n",
       "</style>\n",
       "<table border=\"1\" class=\"dataframe\">\n",
       "  <thead>\n",
       "    <tr style=\"text-align: right;\">\n",
       "      <th></th>\n",
       "      <th>Ticker</th>\n",
       "      <th>Fecha</th>\n",
       "      <th>Cierre</th>\n",
       "      <th>Referencia</th>\n",
       "      <th>Volumen</th>\n",
       "      <th>Rotacion</th>\n",
       "      <th>Ultimo</th>\n",
       "      <th>Alto</th>\n",
       "      <th>Bajo</th>\n",
       "      <th>Promedio</th>\n",
       "    </tr>\n",
       "  </thead>\n",
       "  <tbody>\n",
       "    <tr>\n",
       "      <th>0</th>\n",
       "      <td>ANA</td>\n",
       "      <td>02/01/2019</td>\n",
       "      <td>74.80</td>\n",
       "      <td>73.90</td>\n",
       "      <td>156300</td>\n",
       "      <td>11621188.98</td>\n",
       "      <td>74.80</td>\n",
       "      <td>75.16</td>\n",
       "      <td>72.38</td>\n",
       "      <td>74.3518</td>\n",
       "    </tr>\n",
       "    <tr>\n",
       "      <th>1</th>\n",
       "      <td>ANA</td>\n",
       "      <td>03/01/2019</td>\n",
       "      <td>76.34</td>\n",
       "      <td>74.80</td>\n",
       "      <td>140331</td>\n",
       "      <td>10632703.64</td>\n",
       "      <td>76.34</td>\n",
       "      <td>76.60</td>\n",
       "      <td>74.54</td>\n",
       "      <td>75.7687</td>\n",
       "    </tr>\n",
       "    <tr>\n",
       "      <th>2</th>\n",
       "      <td>ANA</td>\n",
       "      <td>04/01/2019</td>\n",
       "      <td>76.62</td>\n",
       "      <td>76.34</td>\n",
       "      <td>130309</td>\n",
       "      <td>10010838.76</td>\n",
       "      <td>76.62</td>\n",
       "      <td>77.40</td>\n",
       "      <td>76.40</td>\n",
       "      <td>76.8162</td>\n",
       "    </tr>\n",
       "    <tr>\n",
       "      <th>3</th>\n",
       "      <td>ANA</td>\n",
       "      <td>07/01/2019</td>\n",
       "      <td>77.14</td>\n",
       "      <td>76.62</td>\n",
       "      <td>63349</td>\n",
       "      <td>4855724.92</td>\n",
       "      <td>77.14</td>\n",
       "      <td>77.30</td>\n",
       "      <td>75.62</td>\n",
       "      <td>76.6504</td>\n",
       "    </tr>\n",
       "    <tr>\n",
       "      <th>4</th>\n",
       "      <td>ANA</td>\n",
       "      <td>08/01/2019</td>\n",
       "      <td>78.24</td>\n",
       "      <td>77.14</td>\n",
       "      <td>99300</td>\n",
       "      <td>7749464.70</td>\n",
       "      <td>78.24</td>\n",
       "      <td>78.46</td>\n",
       "      <td>77.00</td>\n",
       "      <td>78.0409</td>\n",
       "    </tr>\n",
       "    <tr>\n",
       "      <th>...</th>\n",
       "      <td>...</td>\n",
       "      <td>...</td>\n",
       "      <td>...</td>\n",
       "      <td>...</td>\n",
       "      <td>...</td>\n",
       "      <td>...</td>\n",
       "      <td>...</td>\n",
       "      <td>...</td>\n",
       "      <td>...</td>\n",
       "      <td>...</td>\n",
       "    </tr>\n",
       "    <tr>\n",
       "      <th>8570</th>\n",
       "      <td>VIS</td>\n",
       "      <td>09/12/2019</td>\n",
       "      <td>48.70</td>\n",
       "      <td>48.76</td>\n",
       "      <td>40236</td>\n",
       "      <td>1958325.66</td>\n",
       "      <td>48.70</td>\n",
       "      <td>48.96</td>\n",
       "      <td>48.44</td>\n",
       "      <td>48.6710</td>\n",
       "    </tr>\n",
       "    <tr>\n",
       "      <th>8571</th>\n",
       "      <td>VIS</td>\n",
       "      <td>10/12/2019</td>\n",
       "      <td>48.16</td>\n",
       "      <td>48.70</td>\n",
       "      <td>60198</td>\n",
       "      <td>2895965.78</td>\n",
       "      <td>48.16</td>\n",
       "      <td>48.74</td>\n",
       "      <td>47.70</td>\n",
       "      <td>48.1201</td>\n",
       "    </tr>\n",
       "    <tr>\n",
       "      <th>8572</th>\n",
       "      <td>VIS</td>\n",
       "      <td>11/12/2019</td>\n",
       "      <td>47.96</td>\n",
       "      <td>48.16</td>\n",
       "      <td>63000</td>\n",
       "      <td>3012462.12</td>\n",
       "      <td>47.96</td>\n",
       "      <td>48.42</td>\n",
       "      <td>47.52</td>\n",
       "      <td>47.8169</td>\n",
       "    </tr>\n",
       "    <tr>\n",
       "      <th>8573</th>\n",
       "      <td>VIS</td>\n",
       "      <td>12/12/2019</td>\n",
       "      <td>48.42</td>\n",
       "      <td>47.96</td>\n",
       "      <td>50218</td>\n",
       "      <td>2429199.80</td>\n",
       "      <td>48.42</td>\n",
       "      <td>48.66</td>\n",
       "      <td>47.76</td>\n",
       "      <td>48.3731</td>\n",
       "    </tr>\n",
       "    <tr>\n",
       "      <th>8574</th>\n",
       "      <td>VIS</td>\n",
       "      <td>13/12/2019</td>\n",
       "      <td>48.64</td>\n",
       "      <td>48.42</td>\n",
       "      <td>62427</td>\n",
       "      <td>3038685.10</td>\n",
       "      <td>48.64</td>\n",
       "      <td>49.18</td>\n",
       "      <td>48.12</td>\n",
       "      <td>48.6758</td>\n",
       "    </tr>\n",
       "  </tbody>\n",
       "</table>\n",
       "<p>8575 rows × 10 columns</p>\n",
       "</div>"
      ],
      "text/plain": [
       "     Ticker       Fecha  Cierre  Referencia  Volumen     Rotacion  Ultimo  \\\n",
       "0       ANA  02/01/2019   74.80       73.90   156300  11621188.98   74.80   \n",
       "1       ANA  03/01/2019   76.34       74.80   140331  10632703.64   76.34   \n",
       "2       ANA  04/01/2019   76.62       76.34   130309  10010838.76   76.62   \n",
       "3       ANA  07/01/2019   77.14       76.62    63349   4855724.92   77.14   \n",
       "4       ANA  08/01/2019   78.24       77.14    99300   7749464.70   78.24   \n",
       "...     ...         ...     ...         ...      ...          ...     ...   \n",
       "8570    VIS  09/12/2019   48.70       48.76    40236   1958325.66   48.70   \n",
       "8571    VIS  10/12/2019   48.16       48.70    60198   2895965.78   48.16   \n",
       "8572    VIS  11/12/2019   47.96       48.16    63000   3012462.12   47.96   \n",
       "8573    VIS  12/12/2019   48.42       47.96    50218   2429199.80   48.42   \n",
       "8574    VIS  13/12/2019   48.64       48.42    62427   3038685.10   48.64   \n",
       "\n",
       "       Alto   Bajo  Promedio  \n",
       "0     75.16  72.38   74.3518  \n",
       "1     76.60  74.54   75.7687  \n",
       "2     77.40  76.40   76.8162  \n",
       "3     77.30  75.62   76.6504  \n",
       "4     78.46  77.00   78.0409  \n",
       "...     ...    ...       ...  \n",
       "8570  48.96  48.44   48.6710  \n",
       "8571  48.74  47.70   48.1201  \n",
       "8572  48.42  47.52   47.8169  \n",
       "8573  48.66  47.76   48.3731  \n",
       "8574  49.18  48.12   48.6758  \n",
       "\n",
       "[8575 rows x 10 columns]"
      ]
     },
     "execution_count": 15,
     "metadata": {},
     "output_type": "execute_result"
    }
   ],
   "source": [
    "df = pd.read_csv('Mercado+de+Valores+España.csv')\n",
    "df "
   ]
  },
  {
   "cell_type": "code",
   "execution_count": 16,
   "id": "9e4277c6",
   "metadata": {},
   "outputs": [
    {
     "data": {
      "text/plain": [
       "'02/01/2019'"
      ]
     },
     "execution_count": 16,
     "metadata": {},
     "output_type": "execute_result"
    }
   ],
   "source": [
    "# verificamos el tipo de dato de la columna 'fecha'\n",
    "\n",
    "df['Fecha'][0]"
   ]
  },
  {
   "cell_type": "code",
   "execution_count": 17,
   "id": "f198d1ee",
   "metadata": {},
   "outputs": [
    {
     "data": {
      "text/plain": [
       "str"
      ]
     },
     "execution_count": 17,
     "metadata": {},
     "output_type": "execute_result"
    }
   ],
   "source": [
    "type(df['Fecha'][0])"
   ]
  },
  {
   "cell_type": "code",
   "execution_count": 18,
   "id": "a7832cbc",
   "metadata": {},
   "outputs": [
    {
     "data": {
      "text/html": [
       "<div>\n",
       "<style scoped>\n",
       "    .dataframe tbody tr th:only-of-type {\n",
       "        vertical-align: middle;\n",
       "    }\n",
       "\n",
       "    .dataframe tbody tr th {\n",
       "        vertical-align: top;\n",
       "    }\n",
       "\n",
       "    .dataframe thead th {\n",
       "        text-align: right;\n",
       "    }\n",
       "</style>\n",
       "<table border=\"1\" class=\"dataframe\">\n",
       "  <thead>\n",
       "    <tr style=\"text-align: right;\">\n",
       "      <th></th>\n",
       "      <th>Ticker</th>\n",
       "      <th>Fecha</th>\n",
       "      <th>Cierre</th>\n",
       "      <th>Referencia</th>\n",
       "      <th>Volumen</th>\n",
       "      <th>Rotacion</th>\n",
       "      <th>Ultimo</th>\n",
       "      <th>Alto</th>\n",
       "      <th>Bajo</th>\n",
       "      <th>Promedio</th>\n",
       "    </tr>\n",
       "  </thead>\n",
       "  <tbody>\n",
       "    <tr>\n",
       "      <th>0</th>\n",
       "      <td>ANA</td>\n",
       "      <td>2019-01-02</td>\n",
       "      <td>74.80</td>\n",
       "      <td>73.90</td>\n",
       "      <td>156300</td>\n",
       "      <td>11621188.98</td>\n",
       "      <td>74.80</td>\n",
       "      <td>75.16</td>\n",
       "      <td>72.38</td>\n",
       "      <td>74.3518</td>\n",
       "    </tr>\n",
       "    <tr>\n",
       "      <th>1</th>\n",
       "      <td>ANA</td>\n",
       "      <td>2019-01-03</td>\n",
       "      <td>76.34</td>\n",
       "      <td>74.80</td>\n",
       "      <td>140331</td>\n",
       "      <td>10632703.64</td>\n",
       "      <td>76.34</td>\n",
       "      <td>76.60</td>\n",
       "      <td>74.54</td>\n",
       "      <td>75.7687</td>\n",
       "    </tr>\n",
       "    <tr>\n",
       "      <th>2</th>\n",
       "      <td>ANA</td>\n",
       "      <td>2019-01-04</td>\n",
       "      <td>76.62</td>\n",
       "      <td>76.34</td>\n",
       "      <td>130309</td>\n",
       "      <td>10010838.76</td>\n",
       "      <td>76.62</td>\n",
       "      <td>77.40</td>\n",
       "      <td>76.40</td>\n",
       "      <td>76.8162</td>\n",
       "    </tr>\n",
       "    <tr>\n",
       "      <th>3</th>\n",
       "      <td>ANA</td>\n",
       "      <td>2019-01-07</td>\n",
       "      <td>77.14</td>\n",
       "      <td>76.62</td>\n",
       "      <td>63349</td>\n",
       "      <td>4855724.92</td>\n",
       "      <td>77.14</td>\n",
       "      <td>77.30</td>\n",
       "      <td>75.62</td>\n",
       "      <td>76.6504</td>\n",
       "    </tr>\n",
       "    <tr>\n",
       "      <th>4</th>\n",
       "      <td>ANA</td>\n",
       "      <td>2019-01-08</td>\n",
       "      <td>78.24</td>\n",
       "      <td>77.14</td>\n",
       "      <td>99300</td>\n",
       "      <td>7749464.70</td>\n",
       "      <td>78.24</td>\n",
       "      <td>78.46</td>\n",
       "      <td>77.00</td>\n",
       "      <td>78.0409</td>\n",
       "    </tr>\n",
       "    <tr>\n",
       "      <th>...</th>\n",
       "      <td>...</td>\n",
       "      <td>...</td>\n",
       "      <td>...</td>\n",
       "      <td>...</td>\n",
       "      <td>...</td>\n",
       "      <td>...</td>\n",
       "      <td>...</td>\n",
       "      <td>...</td>\n",
       "      <td>...</td>\n",
       "      <td>...</td>\n",
       "    </tr>\n",
       "    <tr>\n",
       "      <th>8570</th>\n",
       "      <td>VIS</td>\n",
       "      <td>2019-12-09</td>\n",
       "      <td>48.70</td>\n",
       "      <td>48.76</td>\n",
       "      <td>40236</td>\n",
       "      <td>1958325.66</td>\n",
       "      <td>48.70</td>\n",
       "      <td>48.96</td>\n",
       "      <td>48.44</td>\n",
       "      <td>48.6710</td>\n",
       "    </tr>\n",
       "    <tr>\n",
       "      <th>8571</th>\n",
       "      <td>VIS</td>\n",
       "      <td>2019-12-10</td>\n",
       "      <td>48.16</td>\n",
       "      <td>48.70</td>\n",
       "      <td>60198</td>\n",
       "      <td>2895965.78</td>\n",
       "      <td>48.16</td>\n",
       "      <td>48.74</td>\n",
       "      <td>47.70</td>\n",
       "      <td>48.1201</td>\n",
       "    </tr>\n",
       "    <tr>\n",
       "      <th>8572</th>\n",
       "      <td>VIS</td>\n",
       "      <td>2019-12-11</td>\n",
       "      <td>47.96</td>\n",
       "      <td>48.16</td>\n",
       "      <td>63000</td>\n",
       "      <td>3012462.12</td>\n",
       "      <td>47.96</td>\n",
       "      <td>48.42</td>\n",
       "      <td>47.52</td>\n",
       "      <td>47.8169</td>\n",
       "    </tr>\n",
       "    <tr>\n",
       "      <th>8573</th>\n",
       "      <td>VIS</td>\n",
       "      <td>2019-12-12</td>\n",
       "      <td>48.42</td>\n",
       "      <td>47.96</td>\n",
       "      <td>50218</td>\n",
       "      <td>2429199.80</td>\n",
       "      <td>48.42</td>\n",
       "      <td>48.66</td>\n",
       "      <td>47.76</td>\n",
       "      <td>48.3731</td>\n",
       "    </tr>\n",
       "    <tr>\n",
       "      <th>8574</th>\n",
       "      <td>VIS</td>\n",
       "      <td>2019-12-13</td>\n",
       "      <td>48.64</td>\n",
       "      <td>48.42</td>\n",
       "      <td>62427</td>\n",
       "      <td>3038685.10</td>\n",
       "      <td>48.64</td>\n",
       "      <td>49.18</td>\n",
       "      <td>48.12</td>\n",
       "      <td>48.6758</td>\n",
       "    </tr>\n",
       "  </tbody>\n",
       "</table>\n",
       "<p>8575 rows × 10 columns</p>\n",
       "</div>"
      ],
      "text/plain": [
       "     Ticker      Fecha  Cierre  Referencia  Volumen     Rotacion  Ultimo  \\\n",
       "0       ANA 2019-01-02   74.80       73.90   156300  11621188.98   74.80   \n",
       "1       ANA 2019-01-03   76.34       74.80   140331  10632703.64   76.34   \n",
       "2       ANA 2019-01-04   76.62       76.34   130309  10010838.76   76.62   \n",
       "3       ANA 2019-01-07   77.14       76.62    63349   4855724.92   77.14   \n",
       "4       ANA 2019-01-08   78.24       77.14    99300   7749464.70   78.24   \n",
       "...     ...        ...     ...         ...      ...          ...     ...   \n",
       "8570    VIS 2019-12-09   48.70       48.76    40236   1958325.66   48.70   \n",
       "8571    VIS 2019-12-10   48.16       48.70    60198   2895965.78   48.16   \n",
       "8572    VIS 2019-12-11   47.96       48.16    63000   3012462.12   47.96   \n",
       "8573    VIS 2019-12-12   48.42       47.96    50218   2429199.80   48.42   \n",
       "8574    VIS 2019-12-13   48.64       48.42    62427   3038685.10   48.64   \n",
       "\n",
       "       Alto   Bajo  Promedio  \n",
       "0     75.16  72.38   74.3518  \n",
       "1     76.60  74.54   75.7687  \n",
       "2     77.40  76.40   76.8162  \n",
       "3     77.30  75.62   76.6504  \n",
       "4     78.46  77.00   78.0409  \n",
       "...     ...    ...       ...  \n",
       "8570  48.96  48.44   48.6710  \n",
       "8571  48.74  47.70   48.1201  \n",
       "8572  48.42  47.52   47.8169  \n",
       "8573  48.66  47.76   48.3731  \n",
       "8574  49.18  48.12   48.6758  \n",
       "\n",
       "[8575 rows x 10 columns]"
      ]
     },
     "execution_count": 18,
     "metadata": {},
     "output_type": "execute_result"
    }
   ],
   "source": [
    "df['Fecha'] = pd.to_datetime(df['Fecha'], format= '%d/%m/%Y')\n",
    "df"
   ]
  },
  {
   "cell_type": "code",
   "execution_count": 19,
   "id": "e7231bee",
   "metadata": {},
   "outputs": [
    {
     "data": {
      "text/plain": [
       "Timestamp('2019-01-02 00:00:00')"
      ]
     },
     "execution_count": 19,
     "metadata": {},
     "output_type": "execute_result"
    }
   ],
   "source": [
    "df['Fecha'][0]"
   ]
  },
  {
   "cell_type": "code",
   "execution_count": 20,
   "id": "0070f607",
   "metadata": {},
   "outputs": [
    {
     "data": {
      "text/plain": [
       "pandas._libs.tslibs.timestamps.Timestamp"
      ]
     },
     "execution_count": 20,
     "metadata": {},
     "output_type": "execute_result"
    }
   ],
   "source": [
    "type(df['Fecha'][0])"
   ]
  },
  {
   "cell_type": "markdown",
   "id": "d7549e74",
   "metadata": {},
   "source": [
    "Cómo extraer informacion especifica de las fechas"
   ]
  },
  {
   "cell_type": "code",
   "execution_count": null,
   "id": "bf68ceb2",
   "metadata": {},
   "outputs": [
    {
     "data": {
      "text/plain": [
       "2019"
      ]
     },
     "execution_count": 21,
     "metadata": {},
     "output_type": "execute_result"
    }
   ],
   "source": [
    "df['Fecha'][44].year\n"
   ]
  },
  {
   "cell_type": "code",
   "execution_count": 22,
   "id": "962cc910",
   "metadata": {},
   "outputs": [
    {
     "data": {
      "text/plain": [
       "3"
      ]
     },
     "execution_count": 22,
     "metadata": {},
     "output_type": "execute_result"
    }
   ],
   "source": [
    "df['Fecha'][44].month"
   ]
  },
  {
   "cell_type": "code",
   "execution_count": 23,
   "id": "34321d46",
   "metadata": {},
   "outputs": [
    {
     "data": {
      "text/plain": [
       "0      2019-01-07\n",
       "1      2019-01-08\n",
       "2      2019-01-09\n",
       "3      2019-01-12\n",
       "4      2019-01-13\n",
       "          ...    \n",
       "8570   2019-12-14\n",
       "8571   2019-12-15\n",
       "8572   2019-12-16\n",
       "8573   2019-12-17\n",
       "8574   2019-12-18\n",
       "Name: Fecha, Length: 8575, dtype: datetime64[ns]"
      ]
     },
     "execution_count": 23,
     "metadata": {},
     "output_type": "execute_result"
    }
   ],
   "source": [
    "# Aplicamos operaciones para las fechas\n",
    "\n",
    "df_mas_5_dias = df['Fecha'] + pd.Timedelta(days=5)\n",
    "df_mas_5_dias"
   ]
  },
  {
   "cell_type": "code",
   "execution_count": null,
   "id": "9abeb5de",
   "metadata": {},
   "outputs": [],
   "source": []
  }
 ],
 "metadata": {
  "kernelspec": {
   "display_name": "base",
   "language": "python",
   "name": "python3"
  },
  "language_info": {
   "codemirror_mode": {
    "name": "ipython",
    "version": 3
   },
   "file_extension": ".py",
   "mimetype": "text/x-python",
   "name": "python",
   "nbconvert_exporter": "python",
   "pygments_lexer": "ipython3",
   "version": "3.12.7"
  }
 },
 "nbformat": 4,
 "nbformat_minor": 5
}
