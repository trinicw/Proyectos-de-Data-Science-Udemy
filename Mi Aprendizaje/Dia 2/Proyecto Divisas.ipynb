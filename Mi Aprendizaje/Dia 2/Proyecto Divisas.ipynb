{
 "cells": [
  {
   "cell_type": "code",
   "execution_count": 64,
   "id": "0c6a5847-d421-4791-a0cf-f0ca9e40949d",
   "metadata": {},
   "outputs": [],
   "source": [
    "nombre_usuario = \"Trinidad\"\n",
    "fecha_operacion = \"21/03/2025\"\n",
    "momento_dia = \"tarde\"\n",
    "cant_dolares_a_cambiar = 210.0\n"
   ]
  },
  {
   "cell_type": "code",
   "execution_count": 66,
   "id": "951b1ade-bcff-4d60-90bd-e9a50a6269e9",
   "metadata": {},
   "outputs": [
    {
     "name": "stdout",
     "output_type": "stream",
     "text": [
      "Buenas tardes Trinidad\n"
     ]
    }
   ],
   "source": [
    "saludo_bienv = \"Buenas\" +' ' + momento_dia + 's' + ' ' + nombre_usuario\n",
    "print(saludo_bienv)"
   ]
  },
  {
   "cell_type": "code",
   "execution_count": 68,
   "id": "d7be88ce-4d31-455f-8abd-38e67c9835c3",
   "metadata": {},
   "outputs": [
    {
     "name": "stdout",
     "output_type": "stream",
     "text": [
      "Cantidad de dolares a cambiar :210.0\n"
     ]
    }
   ],
   "source": [
    "print(\"Cantidad de dolares a cambiar :\" + str(cant_dolares_a_cambiar))"
   ]
  },
  {
   "cell_type": "code",
   "execution_count": 70,
   "id": "47d2e409-3ea7-4016-b6c8-74c9b8d793af",
   "metadata": {},
   "outputs": [
    {
     "name": "stdout",
     "output_type": "stream",
     "text": [
      "euros a recibir = 184.8\n"
     ]
    }
   ],
   "source": [
    "euros_a_recibir = cant_dolares_a_cambiar * 0.88\n",
    "print(\"euros a recibir = \" + str(euros_a_recibir))"
   ]
  },
  {
   "cell_type": "code",
   "execution_count": 72,
   "id": "ac4af177-4777-4940-b311-5740599d5668",
   "metadata": {},
   "outputs": [
    {
     "name": "stdout",
     "output_type": "stream",
     "text": [
      "cant billetes de 10 :  18\n"
     ]
    }
   ],
   "source": [
    "billetes_10 = euros_a_recibir // 10\n",
    "print(\"cant billetes de 10 : \" + ' ' + str(int(billetes_10)))"
   ]
  },
  {
   "cell_type": "code",
   "execution_count": 76,
   "id": "aacb4224-105f-4ba1-ad10-f75c8b590a96",
   "metadata": {},
   "outputs": [
    {
     "name": "stdout",
     "output_type": "stream",
     "text": [
      "cant billetes de 1 :  4\n"
     ]
    }
   ],
   "source": [
    "billetes_1 = int(euros_a_recibir - billetes_10*10)\n",
    "print(\"cant billetes de 1 : \" + ' ' +  str(billetes_1))"
   ]
  },
  {
   "cell_type": "code",
   "execution_count": 78,
   "id": "35b17c15-fe4c-4270-a356-b49d1a368b54",
   "metadata": {},
   "outputs": [
    {
     "name": "stdout",
     "output_type": "stream",
     "text": [
      "monedas 0\n"
     ]
    }
   ],
   "source": [
    "monedas = billetes_1 - int(billetes_1)\n",
    "print(\"monedas\" + ' ' + str(monedas))"
   ]
  },
  {
   "cell_type": "markdown",
   "id": "293ee687-f874-4ca0-9eb3-5ac539f305ca",
   "metadata": {},
   "source": [
    "Mensajes Finales\n"
   ]
  },
  {
   "cell_type": "code",
   "execution_count": 62,
   "id": "97e1923b-d7ef-47ba-b295-4afcd910b88e",
   "metadata": {},
   "outputs": [
    {
     "name": "stdout",
     "output_type": "stream",
     "text": [
      "Buenas tardes Trinidad\n",
      "Cantidad de dolares a cambiar :254.998654\n",
      "euros a recibir = 224.39881552\n",
      "cant billetes de 10 :  22\n",
      "cant billetes de 1 :  4\n",
      "monedas 0\n",
      "Hasta luego\n"
     ]
    }
   ],
   "source": [
    "print(saludo_bienv)\n",
    "print(\"Cantidad de dolares a cambiar :\" + str(cant_dolares_a_cambiar))\n",
    "print(\"euros a recibir = \" + str(euros_a_recibir))\n",
    "print(\"cant billetes de 10 : \" + ' ' + str(int(billetes_10)))\n",
    "print(\"cant billetes de 1 : \" + ' ' +  str(billetes_1))\n",
    "print(\"monedas\" + ' ' + str(monedas))\n",
    "print(\"Hasta luego\")\n",
    "\n",
    "\n"
   ]
  },
  {
   "cell_type": "code",
   "execution_count": null,
   "id": "54a8c044-6ad0-41eb-9f59-a9c10874871b",
   "metadata": {},
   "outputs": [],
   "source": []
  }
 ],
 "metadata": {
  "kernelspec": {
   "display_name": "Python [conda env:base] *",
   "language": "python",
   "name": "conda-base-py"
  },
  "language_info": {
   "codemirror_mode": {
    "name": "ipython",
    "version": 3
   },
   "file_extension": ".py",
   "mimetype": "text/x-python",
   "name": "python",
   "nbconvert_exporter": "python",
   "pygments_lexer": "ipython3",
   "version": "3.12.7"
  }
 },
 "nbformat": 4,
 "nbformat_minor": 5
}
