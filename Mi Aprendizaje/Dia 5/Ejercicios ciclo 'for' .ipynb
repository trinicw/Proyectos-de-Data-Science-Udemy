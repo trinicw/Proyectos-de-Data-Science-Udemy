{
 "cells": [
  {
   "cell_type": "markdown",
   "id": "c7c6c632",
   "metadata": {},
   "source": [
    "Escribe un programa que itere sobre una lista de cadenas que representan nombres de paises por ejemplo: ['Francia', 'Alemania', 'España', 'Italia', 'Portugal', 'Chile']. Dentro del bucle, usa una declaración if para imprimir el nombre del país solo si contiene la letra 'a'."
   ]
  },
  {
   "cell_type": "code",
   "execution_count": 3,
   "id": "fb3f9d7e",
   "metadata": {},
   "outputs": [
    {
     "name": "stdout",
     "output_type": "stream",
     "text": [
      "Francia\n",
      "Alemania\n",
      "España\n",
      "Italia\n"
     ]
    }
   ],
   "source": [
    "paises = ['Francia', 'Alemania', 'España', 'Italia', 'Chile']\n",
    "\n",
    "\n",
    "for pais in paises:\n",
    "    contador = 0\n",
    "    for letra in pais:\n",
    "        if letra == 'a':\n",
    "            contador +=1\n",
    "    if contador > 1:\n",
    "        print(pais)"
   ]
  }
 ],
 "metadata": {
  "kernelspec": {
   "display_name": "base",
   "language": "python",
   "name": "python3"
  },
  "language_info": {
   "codemirror_mode": {
    "name": "ipython",
    "version": 3
   },
   "file_extension": ".py",
   "mimetype": "text/x-python",
   "name": "python",
   "nbconvert_exporter": "python",
   "pygments_lexer": "ipython3",
   "version": "3.12.7"
  }
 },
 "nbformat": 4,
 "nbformat_minor": 5
}
