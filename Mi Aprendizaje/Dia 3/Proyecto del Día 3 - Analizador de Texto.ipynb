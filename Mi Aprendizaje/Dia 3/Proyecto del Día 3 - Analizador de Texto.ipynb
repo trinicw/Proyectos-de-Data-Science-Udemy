{
 "cells": [
  {
   "cell_type": "markdown",
   "id": "9572445f",
   "metadata": {},
   "source": [
    "# Proyecto del Día 3: Analizador de Texto\n",
    "\n",
    "Este proyecto tiene como objetivo aplicar los conceptos aprendidos sobre strings, input, indexación y formateo de strings en Python. El programa permitirá al usuario ingresar un texto y luego elegir realizar diversas operaciones de análisis sobre ese texto.\n",
    "\n",
    "## Consigna\n",
    "Vas a crear un programa que le pida al usuario que ingrese un texto de al menos 10 palabras. Tu programa va a procesar ese texto, lo va a procesar, y le va a devolver un análisis detallado, que incluya:\n",
    "1. Contar el número total de caracteres en el texto\n",
    "2. Contar el número de caracteres sin incluir los espacios\n",
    "3. Contar la cantidad de vocales que hay en el texto\n",
    "4. Contar el número total de palabras en el texto ingresado\n",
    "\n",
    "**nota**: para resolver los siguientes items, deberás investigar otros métodos de strings que no hemos visto. Recuerda valerte de *type*, *dir* y *help*\n",
    "\n",
    "5. Eliminar la primera palabra\n",
    "6. Reemplazar todos los espacios por guiones medios (-)\n",
    "8. Cambia las mayúsculas a minúsculas y las minúsculas a mayúsculas \n",
    "\n",
    "Al finalizar el procesamiento, se imprimirán 8 cadenas literales mostrando los resultados del análisis (una cadena por cada resultado).\n",
    "<br>\n",
    "<br>\n",
    "<br>"
   ]
  },
  {
   "cell_type": "markdown",
   "id": "e5cd9e4d",
   "metadata": {},
   "source": [
    "### Resolución\n",
    "\n",
    "Ingreso del usuario:"
   ]
  },
  {
   "cell_type": "code",
   "execution_count": 34,
   "id": "fa27da8c",
   "metadata": {},
   "outputs": [
    {
     "name": "stdout",
     "output_type": "stream",
     "text": [
      "El texto ingresado no tiene 10 palabras\n",
      "El texto ingresado tiene 11 palabras\n"
     ]
    }
   ],
   "source": [
    "texto = input(\"Ingrese un texto que tenga como mínimo 10 palabras\")\n",
    "\n",
    "while len(texto.split()) < 10:\n",
    "    print(\"El texto ingresado no tiene 10 palabras\")\n",
    "    texto = input(\"Ingrese un texto que tenga como mínimo 10 palabras\")\n",
    "\n",
    "\n",
    "print(\"El texto ingresado tiene\", len(texto.split()), \"palabras\")"
   ]
  },
  {
   "cell_type": "markdown",
   "id": "41214377",
   "metadata": {},
   "source": [
    "1. Contar el número total de caracteres en el texto"
   ]
  },
  {
   "cell_type": "code",
   "execution_count": 35,
   "id": "40448873",
   "metadata": {},
   "outputs": [
    {
     "name": "stdout",
     "output_type": "stream",
     "text": [
      "La cantidad total de caracteres es 58\n"
     ]
    }
   ],
   "source": [
    "print(f\"La cantidad total de caracteres es {len(texto)}\")"
   ]
  },
  {
   "cell_type": "markdown",
   "id": "3d6378dc",
   "metadata": {},
   "source": [
    "2. Contar el número de caracteres sin incluir los espacios"
   ]
  },
  {
   "cell_type": "code",
   "execution_count": 36,
   "id": "991b29c7",
   "metadata": {},
   "outputs": [
    {
     "name": "stdout",
     "output_type": "stream",
     "text": [
      "La cantidad total de caracteres sin espacios es 48\n"
     ]
    }
   ],
   "source": [
    "texto_sin_espacios = texto.replace(\" \", \"\")\n",
    "print(f\"La cantidad total de caracteres sin espacios es {len(texto_sin_espacios)}\")"
   ]
  },
  {
   "cell_type": "markdown",
   "id": "c6e62385",
   "metadata": {},
   "source": [
    "3. Contar la cantidad de vocales que hay en el texto"
   ]
  },
  {
   "cell_type": "code",
   "execution_count": 37,
   "id": "65b19bc7",
   "metadata": {},
   "outputs": [
    {
     "name": "stdout",
     "output_type": "stream",
     "text": [
      "La cantidad total de vocales es 21\n"
     ]
    }
   ],
   "source": [
    "cont_vocales = 0\n",
    "for i in texto:\n",
    "    if i in \"aeiouAEIOU\":\n",
    "        cont_vocales += 1\n",
    "\n",
    "print(f\"La cantidad total de vocales es {cont_vocales}\")"
   ]
  },
  {
   "cell_type": "markdown",
   "id": "4b6211c5",
   "metadata": {},
   "source": [
    "4. Contar el número total de palabras en el texto ingresado"
   ]
  },
  {
   "cell_type": "code",
   "execution_count": 38,
   "id": "5b6eb1b1",
   "metadata": {},
   "outputs": [
    {
     "name": "stdout",
     "output_type": "stream",
     "text": [
      "La cantidad total de palabras es 11\n"
     ]
    }
   ],
   "source": [
    "cant_palabras = len(texto.split())\n",
    "print(f\"La cantidad total de palabras es {cant_palabras}\")"
   ]
  },
  {
   "cell_type": "markdown",
   "id": "bee5597e",
   "metadata": {},
   "source": [
    "5. Eliminar la primera palabra"
   ]
  },
  {
   "cell_type": "code",
   "execution_count": 39,
   "id": "8bcbfe9d",
   "metadata": {},
   "outputs": [
    {
     "name": "stdout",
     "output_type": "stream",
     "text": [
      "La primera palabra borrada es : eL\n",
      "texto completo: eL vErDaDeRo éXiTo nO eS rÁpIdO, pErO eS sEgUrO y dUrAdErO\n",
      "texto sin la primera palabra: vErDaDeRo éXiTo nO eS rÁpIdO, pErO eS sEgUrO y dUrAdErO\n"
     ]
    }
   ],
   "source": [
    "texto_lista = texto.split()\n",
    "primera_palabra = texto_lista.pop(0)\n",
    "print(f\"La primera palabra borrada es : {primera_palabra}\")\n",
    "\n",
    "print(f\"texto completo: {texto}\")\n",
    "print(f\"texto sin la primera palabra: {\" \".join(texto_lista)}\") "
   ]
  },
  {
   "cell_type": "markdown",
   "id": "d5b05440",
   "metadata": {},
   "source": [
    "6. Reemplazar todos los espacios por guiones medios (-)"
   ]
  },
  {
   "cell_type": "code",
   "execution_count": 40,
   "id": "90a21e61",
   "metadata": {},
   "outputs": [
    {
     "name": "stdout",
     "output_type": "stream",
     "text": [
      "Texto con guiones: eL-vErDaDeRo-éXiTo-nO-eS-rÁpIdO,-pErO-eS-sEgUrO-y-dUrAdErO\n"
     ]
    }
   ],
   "source": [
    "texto_guiones = texto.replace(\" \", \"-\")\n",
    "print(f\"Texto con guiones: {texto_guiones}\")"
   ]
  },
  {
   "cell_type": "markdown",
   "id": "8a61c508",
   "metadata": {},
   "source": [
    "7. Cambia las mayúsculas a minúsculas y las minúsculas a mayúsculas"
   ]
  },
  {
   "cell_type": "code",
   "execution_count": 41,
   "id": "8cb35aaf",
   "metadata": {},
   "outputs": [
    {
     "name": "stdout",
     "output_type": "stream",
     "text": [
      "Texto alterado : El VeRdAdErO ÉxItO No Es RáPiDo, PeRo Es SeGuRo Y DuRaDeRo\n"
     ]
    }
   ],
   "source": [
    "print(f\"Texto alterado : {texto.swapcase()}\")"
   ]
  },
  {
   "cell_type": "markdown",
   "id": "66b8d816",
   "metadata": {},
   "source": [
    "Muéstrale al usuario los resultados del análisis de su texto."
   ]
  },
  {
   "cell_type": "code",
   "execution_count": null,
   "id": "eb0d449a",
   "metadata": {},
   "outputs": [
    {
     "name": "stdout",
     "output_type": "stream",
     "text": [
      " 1. el texto ingresado es : eL vErDaDeRo éXiTo nO eS rÁpIdO, pErO eS sEgUrO y dUrAdErO\n",
      " 2. La cantidad total de caracteres sin espacios es 48\n",
      " 3. La cantidad total de vocales es 21\n",
      " 4. El texto ingresado tiene 11 palabras\n",
      " 5. texto sin la primera palabra: vErDaDeRo éXiTo nO eS rÁpIdO, pErO eS sEgUrO y dUrAdErO\n",
      " 6. Texto con guiones: eL-vErDaDeRo-éXiTo-nO-eS-rÁpIdO,-pErO-eS-sEgUrO-y-dUrAdErO\n",
      " 7. Texto alterado : El VeRdAdErO ÉxItO No Es RáPiDo, PeRo Es SeGuRo Y DuRaDeRo\n"
     ]
    }
   ],
   "source": [
    "print(f\" 1. el texto ingresado es : {texto}\")\n",
    "print(f\" 2. La cantidad total de caracteres sin espacios es {len(texto_sin_espacios)}\")\n",
    "print(f\" 3. La cantidad total de vocales es {cont_vocales}\")\n",
    "print(\" 4. El texto ingresado tiene\", len(texto.split()), \"palabras\")\n",
    "print(f\" 5. texto sin la primera palabra: {\" \".join(texto_lista)}\") \n",
    "print(f\" 6. Texto con guiones: {texto_guiones}\")\n",
    "print(f\" 7. Texto alterado : {texto.swapcase()}\")\n",
    "\n",
    "\n"
   ]
  }
 ],
 "metadata": {
  "kernelspec": {
   "display_name": "base",
   "language": "python",
   "name": "python3"
  },
  "language_info": {
   "codemirror_mode": {
    "name": "ipython",
    "version": 3
   },
   "file_extension": ".py",
   "mimetype": "text/x-python",
   "name": "python",
   "nbconvert_exporter": "python",
   "pygments_lexer": "ipython3",
   "version": "3.12.7"
  }
 },
 "nbformat": 4,
 "nbformat_minor": 5
}
